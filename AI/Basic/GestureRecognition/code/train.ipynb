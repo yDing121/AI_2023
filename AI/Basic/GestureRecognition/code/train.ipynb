{
 "cells": [
  {
   "cell_type": "code",
   "execution_count": 1,
   "id": "168bb065",
   "metadata": {},
   "outputs": [
    {
     "ename": "ModuleNotFoundError",
     "evalue": "No module named 'tensorflow'",
     "output_type": "error",
     "traceback": [
      "\u001b[1;31m---------------------------------------------------------------------------\u001b[0m",
      "\u001b[1;31mModuleNotFoundError\u001b[0m                       Traceback (most recent call last)",
      "\u001b[1;32m~\\AppData\\Local\\Temp/ipykernel_9368/2869627754.py\u001b[0m in \u001b[0;36m<module>\u001b[1;34m\u001b[0m\n\u001b[0;32m      2\u001b[0m \u001b[1;32mimport\u001b[0m \u001b[0mpandas\u001b[0m \u001b[1;32mas\u001b[0m \u001b[0mpd\u001b[0m\u001b[1;33m\u001b[0m\u001b[1;33m\u001b[0m\u001b[0m\n\u001b[0;32m      3\u001b[0m \u001b[1;32mimport\u001b[0m \u001b[0mmatplotlib\u001b[0m\u001b[1;33m.\u001b[0m\u001b[0mpyplot\u001b[0m \u001b[1;32mas\u001b[0m \u001b[0mplt\u001b[0m\u001b[1;33m\u001b[0m\u001b[1;33m\u001b[0m\u001b[0m\n\u001b[1;32m----> 4\u001b[1;33m \u001b[1;32mimport\u001b[0m \u001b[0mtensorflow\u001b[0m \u001b[1;32mas\u001b[0m \u001b[0mtf\u001b[0m\u001b[1;33m\u001b[0m\u001b[1;33m\u001b[0m\u001b[0m\n\u001b[0m\u001b[0;32m      5\u001b[0m \u001b[1;32mfrom\u001b[0m \u001b[0mtensorflow\u001b[0m\u001b[1;33m.\u001b[0m\u001b[0mkeras\u001b[0m\u001b[1;33m.\u001b[0m\u001b[0mutils\u001b[0m \u001b[1;32mimport\u001b[0m \u001b[0mplot_model\u001b[0m\u001b[1;33m\u001b[0m\u001b[1;33m\u001b[0m\u001b[0m\n\u001b[0;32m      6\u001b[0m \u001b[1;32mimport\u001b[0m \u001b[0mos\u001b[0m\u001b[1;33m\u001b[0m\u001b[1;33m\u001b[0m\u001b[0m\n",
      "\u001b[1;31mModuleNotFoundError\u001b[0m: No module named 'tensorflow'"
     ]
    }
   ],
   "source": [
    "import numpy as np\n",
    "import pandas as pd\n",
    "import matplotlib.pyplot as plt\n",
    "import tensorflow as tf\n",
    "from tensorflow.keras.utils import plot_model\n",
    "import os"
   ]
  },
  {
   "cell_type": "code",
   "execution_count": 2,
   "id": "be824f59",
   "metadata": {},
   "outputs": [
    {
     "name": "stdout",
     "output_type": "stream",
     "text": [
      "Package                 Version            \n",
      "----------------------- -------------------\n",
      "absl-py                 0.15.0             \n",
      "asn1crypto              1.3.0              \n",
      "astor                   0.8.0              \n",
      "astunparse              1.6.3              \n",
      "blinker                 1.4                \n",
      "bokeh                   1.4.0              \n",
      "cached-property         1.5.2              \n",
      "cachetools              4.2.4              \n",
      "certifi                 2019.9.11          \n",
      "cffi                    1.14.0             \n",
      "chardet                 3.0.4              \n",
      "Click                   7.0                \n",
      "cloudpickle             1.3.0              \n",
      "cryptography            2.8                \n",
      "cycler                  0.10.0             \n",
      "Cython                  0.29.14            \n",
      "cytoolz                 0.10.1             \n",
      "dask                    2.6.0              \n",
      "dataclasses             0.8                \n",
      "decorator               4.4.1              \n",
      "distributed             2.7.0              \n",
      "flatbuffers             1.12               \n",
      "fsspec                  0.6.2              \n",
      "gast                    0.4.0              \n",
      "google-auth             2.18.0             \n",
      "google-auth-oauthlib    0.4.6              \n",
      "google-pasta            0.2.0              \n",
      "grpcio                  1.34.1             \n",
      "h5py                    3.1.0              \n",
      "HeapDict                1.0.1              \n",
      "idna                    2.8                \n",
      "imageio                 2.6.1              \n",
      "imutils                 0.5.3              \n",
      "Jinja2                  2.11.1             \n",
      "joblib                  0.14.0             \n",
      "Keras                   2.3.1              \n",
      "Keras-Applications      1.0.8              \n",
      "keras-nightly           2.5.0.dev2021032900\n",
      "Keras-Preprocessing     1.1.2              \n",
      "kiwisolver              1.1.0              \n",
      "locket                  0.2.0              \n",
      "Markdown                3.1.1              \n",
      "MarkupSafe              1.1.1              \n",
      "matplotlib              3.1.1              \n",
      "mediapipe               0.8.2              \n",
      "mkl-fft                 1.0.15             \n",
      "mkl-random              1.1.0              \n",
      "mkl-service             2.3.0              \n",
      "msgpack                 0.6.1              \n",
      "networkx                2.4                \n",
      "numpy                   1.19.3             \n",
      "oauthlib                3.1.0              \n",
      "olefile                 0.46               \n",
      "opencv-python           4.2.0.32           \n",
      "opt-einsum              3.3.0              \n",
      "packaging               20.1               \n",
      "pandas                  1.0.1              \n",
      "partd                   1.1.0              \n",
      "Pillow                  6.2.1              \n",
      "pip                     20.0.2             \n",
      "progressbar             2.5                \n",
      "protobuf                3.19.6             \n",
      "psutil                  5.6.7              \n",
      "pyasn1                  0.4.7              \n",
      "pyasn1-modules          0.2.7              \n",
      "pycparser               2.19               \n",
      "pydot                   1.4.1              \n",
      "pygame                  1.9.6              \n",
      "PyJWT                   1.7.1              \n",
      "pyOpenSSL               19.1.0             \n",
      "pyparsing               2.4.2              \n",
      "pyreadline              2.1                \n",
      "PySocks                 1.7.1              \n",
      "python-dateutil         2.8.0              \n",
      "python-utils            2.3.0              \n",
      "pytz                    2019.3             \n",
      "PyWavelets              1.1.1              \n",
      "PyYAML                  5.3                \n",
      "requests                2.22.0             \n",
      "requests-oauthlib       1.2.0              \n",
      "rsa                     4.9                \n",
      "scikit-image            0.16.2             \n",
      "scikit-learn            0.21.3             \n",
      "scipy                   1.3.1              \n",
      "setuptools              45.2.0.post20200210\n",
      "six                     1.15.0             \n",
      "sortedcontainers        2.1.0              \n",
      "tblib                   1.6.0              \n",
      "tensorboard             2.10.1             \n",
      "tensorboard-data-server 0.6.1              \n",
      "tensorboard-plugin-wit  1.8.1              \n",
      "tensorflow              2.5.2              \n",
      "tensorflow-estimator    2.5.0              \n",
      "termcolor               1.1.0              \n",
      "toolz                   0.10.0             \n",
      "tornado                 6.0.3              \n",
      "typing-extensions       3.7.4.3            \n",
      "urllib3                 1.25.6             \n",
      "Werkzeug                2.0.3              \n",
      "wheel                   0.37.1             \n",
      "win-inet-pton           1.1.0              \n",
      "wincertstore            0.2                \n",
      "wrapt                   1.12.1             \n",
      "zict                    1.0.0              \n"
     ]
    }
   ],
   "source": [
    "!pip list"
   ]
  },
  {
   "cell_type": "code",
   "execution_count": 7,
   "id": "2481af2b",
   "metadata": {},
   "outputs": [
    {
     "name": "stdout",
     "output_type": "stream",
     "text": [
      "facerec\n"
     ]
    }
   ],
   "source": []
  },
  {
   "cell_type": "code",
   "execution_count": null,
   "id": "8b237c22",
   "metadata": {},
   "outputs": [],
   "source": []
  }
 ],
 "metadata": {
  "kernelspec": {
   "display_name": "facerec",
   "language": "python",
   "name": "facerec"
  },
  "language_info": {
   "codemirror_mode": {
    "name": "ipython",
    "version": 3
   },
   "file_extension": ".py",
   "mimetype": "text/x-python",
   "name": "python",
   "nbconvert_exporter": "python",
   "pygments_lexer": "ipython3",
   "version": "3.9.7"
  }
 },
 "nbformat": 4,
 "nbformat_minor": 5
}
